{
 "cells": [
  {
   "cell_type": "markdown",
   "id": "7b29e854",
   "metadata": {},
   "source": [
    "### XARRAY LIBRARY"
   ]
  },
  {
   "cell_type": "markdown",
   "id": "6724743f",
   "metadata": {},
   "source": [
    "Xarray: A Powerful Tool for N-Dimensional Data\n",
    "Xarray is a Python library designed to work seamlessly with labeled multi-dimensional arrays. It provides a high-level interface for performing operations on scientific datasets, making it a valuable tool for fields like climate science, oceanography, and machine learning.\n",
    "\n",
    "Key Features of Xarray:\n",
    "\n",
    "Labeled Arrays: Unlike NumPy arrays, which are primarily indexed by integers, Xarray arrays have labels attached to each dimension. These labels can be anything from time, space, or categorical variables.\n",
    "\n",
    "Data Structures: Xarray introduces two primary data structures:\n",
    "\n",
    "DataArray: Represents a single multi-dimensional variable with associated metadata (e.g., name, dimensions, attributes).\n",
    "\n",
    "Dataset: A collection of DataArrays, allowing for the representation of multiple variables with shared dimensions.\n",
    "\n",
    "Indexing and Selection: Xarray provides flexible indexing and selection mechanisms using both integer-based and label-based \n",
    "\n",
    "indexing. This makes it easy to extract specific subsets of data.\n",
    "\n",
    "Calculations: Xarray supports various mathematical operations on DataArrays, including arithmetic, logical operations, and statistical calculations.\n",
    "\n",
    "Aggregation: You can aggregate data along specific dimensions using functions like mean, sum, std, and more.\n",
    "\n",
    "Visualization: Xarray integrates well with plotting libraries like Matplotlib and Cartopy, making it easy to visualize your data.\n",
    "\n",
    "Interoperability: Xarray can work with other scientific Python libraries like NumPy, Pandas, and SciPy."
   ]
  },
  {
   "cell_type": "markdown",
   "id": "d190d80e",
   "metadata": {},
   "source": [
    "### ARRAY : collection of similar type of data. collection of items stored at contigues emory location."
   ]
  },
  {
   "cell_type": "markdown",
   "id": "9be15b0e",
   "metadata": {},
   "source": [
    "#### Need for NumPy\n",
    "\n",
    "Efficient Numerical Operations: NumPy provides highly optimized functions for performing numerical operations on arrays, which are significantly faster than Python's built-in lists.\n",
    "\n",
    "Large Datasets: NumPy is designed to handle large datasets efficiently, making it ideal for scientific computing, data analysis, and machine learning applications.\n",
    "\n",
    "Broad Range of Functions: NumPy offers a vast array of mathematical functions, including linear algebra, Fourier transforms, random number generation, and more.\n",
    "\n",
    "Integration with Other Libraries: NumPy seamlessly integrates with other popular Python libraries like SciPy, Matplotlib, and Pandas, making it a crucial component of the scientific Python ecosystem.\n",
    "\n",
    "#### Advantages of NumPy\n",
    "Speed: NumPy's underlying implementation in C and Fortran ensures that numerical operations are executed much faster than equivalent Python code.\n",
    "\n",
    "Memory Efficiency: NumPy arrays are stored in contiguous memory blocks, reducing memory overhead and improving performance.\n",
    "\n",
    "Broad Functionality: NumPy provides a comprehensive set of functions for various numerical tasks, eliminating the need for manual implementation.\n",
    "\n",
    "Ease of Use: NumPy's intuitive syntax and clear documentation make it easy to learn and use, even for beginners.\n",
    "\n",
    "Large Community and Support: NumPy has a large and active community, providing extensive documentation, tutorials, and support resources.\n",
    "\n",
    "#### Important Information about NumPy\n",
    "Arrays: The fundamental data structure in NumPy is the array, which is a multi-dimensional container of homogeneous data types.\n",
    "\n",
    "Data Types: NumPy supports a variety of data types, including integers, floating-point numbers, complex numbers, and Boolean values.\n",
    "\n",
    "Indexing and Slicing: NumPy provides powerful indexing and slicing mechanisms for accessing and manipulating array elements.\n",
    "\n",
    "Broadcasting: NumPy's broadcasting feature allows for automatic element-wise operations between arrays of different shapes.\n",
    "\n",
    "Linear Algebra: NumPy includes efficient functions for linear algebra operations, such as matrix multiplication, inversion, and eigenvalue decomposition.\n",
    "\n",
    "Random Number Generation: NumPy provides tools for generating random numbers from various distributions, including uniform, normal, and Poisson.\n",
    "\n",
    "Fourier Transforms: NumPy offers functions for computing Fourier transforms, which are essential for signal processing and spectral analysis.\n",
    "\n",
    "By understanding the need, advantages, and key features of NumPy, you can effectively leverage this powerful library to perform efficient numerical computations and data analysis in Python."
   ]
  },
  {
   "cell_type": "code",
   "execution_count": 2,
   "id": "e0de289e",
   "metadata": {},
   "outputs": [],
   "source": [
    "import numpy as np"
   ]
  },
  {
   "cell_type": "markdown",
   "id": "1febf6c2",
   "metadata": {},
   "source": [
    "### CONVERTING LIST INTO ARRAY"
   ]
  },
  {
   "cell_type": "code",
   "execution_count": 4,
   "id": "79363a6e",
   "metadata": {},
   "outputs": [
    {
     "name": "stdout",
     "output_type": "stream",
     "text": [
      "<class 'list'>\n",
      "<class 'numpy.ndarray'>\n"
     ]
    }
   ],
   "source": [
    "lst=[1,2,3]\n",
    "print(type(lst))\n",
    "arr=np.array(lst)\n",
    "print(type(arr))"
   ]
  },
  {
   "cell_type": "code",
   "execution_count": 5,
   "id": "10d5c7fc",
   "metadata": {},
   "outputs": [
    {
     "name": "stdout",
     "output_type": "stream",
     "text": [
      "[1 2 3]\n"
     ]
    }
   ],
   "source": [
    "arr=np.array(lst,ndmin=1)\n",
    "print(arr)"
   ]
  },
  {
   "cell_type": "code",
   "execution_count": 6,
   "id": "35a9e930",
   "metadata": {},
   "outputs": [
    {
     "name": "stdout",
     "output_type": "stream",
     "text": [
      "[[1 2 3]]\n"
     ]
    }
   ],
   "source": [
    "arr=np.array(lst,ndmin=2)\n",
    "print(arr)"
   ]
  },
  {
   "cell_type": "markdown",
   "id": "c383523f",
   "metadata": {},
   "source": [
    "### ARRANGE FUNCTION"
   ]
  },
  {
   "cell_type": "code",
   "execution_count": 9,
   "id": "c64050ed",
   "metadata": {},
   "outputs": [
    {
     "data": {
      "text/plain": [
       "array([1, 2, 3, 4, 5, 6, 7, 8, 9])"
      ]
     },
     "execution_count": 9,
     "metadata": {},
     "output_type": "execute_result"
    }
   ],
   "source": [
    "np.arange(1,10) # similar to the normal range function"
   ]
  },
  {
   "cell_type": "code",
   "execution_count": 10,
   "id": "7da6151d",
   "metadata": {},
   "outputs": [
    {
     "data": {
      "text/plain": [
       "array([1, 3, 5, 7, 9])"
      ]
     },
     "execution_count": 10,
     "metadata": {},
     "output_type": "execute_result"
    }
   ],
   "source": [
    "np.arange(1,10,2)"
   ]
  },
  {
   "cell_type": "markdown",
   "id": "ebfe2d1f",
   "metadata": {},
   "source": [
    "### MULTIDIMENTIONAL ARRAY"
   ]
  },
  {
   "cell_type": "code",
   "execution_count": 13,
   "id": "8c43b498",
   "metadata": {},
   "outputs": [
    {
     "data": {
      "text/plain": [
       "array([[1, 2, 3],\n",
       "       [4, 5, 6],\n",
       "       [7, 8, 9]])"
      ]
     },
     "execution_count": 13,
     "metadata": {},
     "output_type": "execute_result"
    }
   ],
   "source": [
    "arr=np.array([[1,2,3],[4,5,6],[7,8,9]])\n",
    "arr"
   ]
  },
  {
   "cell_type": "markdown",
   "id": "0da2dcb0",
   "metadata": {},
   "source": [
    "### SIZE FUNCTION"
   ]
  },
  {
   "cell_type": "code",
   "execution_count": 18,
   "id": "a84ca20b",
   "metadata": {},
   "outputs": [
    {
     "name": "stdout",
     "output_type": "stream",
     "text": [
      "Total :  12\n",
      "Rows :  4\n",
      "Columns :  3\n"
     ]
    }
   ],
   "source": [
    "arr=np.array([[1,2,3],[4,5,6],[7,8,9],[10,11,12]])\n",
    "\n",
    "print('Total : ',arr.size)\n",
    "print('Rows : ',np.size(arr,0)) #for rows axis = 0\n",
    "print('Columns : ',np.size(arr,1)) #for columns axis = 1"
   ]
  },
  {
   "cell_type": "markdown",
   "id": "0b27d9fe",
   "metadata": {},
   "source": [
    "### SHAPE FUNCTION"
   ]
  },
  {
   "cell_type": "code",
   "execution_count": 23,
   "id": "375105ca",
   "metadata": {},
   "outputs": [
    {
     "name": "stdout",
     "output_type": "stream",
     "text": [
      "(4, 3)\n",
      "(4, 3)\n"
     ]
    }
   ],
   "source": [
    "arr=np.array([[1,2,3],[4,5,6],[7,8,9],[10,11,12]])\n",
    "print((np.size(arr,0),np.size(arr,1)))\n",
    "print(arr.shape)"
   ]
  },
  {
   "cell_type": "markdown",
   "id": "99f2c26d",
   "metadata": {},
   "source": [
    "### DTYPE FUNCTION"
   ]
  },
  {
   "cell_type": "code",
   "execution_count": 29,
   "id": "7865f29f",
   "metadata": {},
   "outputs": [
    {
     "name": "stdout",
     "output_type": "stream",
     "text": [
      "int32\n",
      "float64\n"
     ]
    }
   ],
   "source": [
    "arr1=np.array([1,2,3,4])\n",
    "arr2=np.array([1.2,2.2,3.2,4.2])\n",
    "\n",
    "print(arr1.dtype)\n",
    "print(arr2.dtype)\n"
   ]
  },
  {
   "cell_type": "markdown",
   "id": "4bb442c6",
   "metadata": {},
   "source": [
    "### NDIM FUNCTION"
   ]
  },
  {
   "cell_type": "code",
   "execution_count": 30,
   "id": "4df5db94",
   "metadata": {},
   "outputs": [
    {
     "name": "stdout",
     "output_type": "stream",
     "text": [
      "[[[[1 2 3 4]]]]\n"
     ]
    }
   ],
   "source": [
    "arr1=np.array([1,2,3,4])\n",
    "arr2=np.array([[1,2,3,4],[5,6,7,8]])\n",
    "arr3=np.array(arr1,ndmin=4)\n",
    "print(arr3)"
   ]
  },
  {
   "cell_type": "markdown",
   "id": "f510153a",
   "metadata": {},
   "source": [
    "### ZEROS FUNCTION"
   ]
  },
  {
   "cell_type": "code",
   "execution_count": 39,
   "id": "ae4a1a63",
   "metadata": {},
   "outputs": [
    {
     "name": "stdout",
     "output_type": "stream",
     "text": [
      "int32\n",
      "[[0 0 0 0]\n",
      " [0 0 0 0]]\n"
     ]
    }
   ],
   "source": [
    "arr=np.zeros(shape=(2,4),dtype=int)\n",
    "print(arr.dtype)\n",
    "print(arr)"
   ]
  },
  {
   "cell_type": "markdown",
   "id": "aa7f0f2c",
   "metadata": {},
   "source": [
    "### EYE FUNCTION"
   ]
  },
  {
   "cell_type": "code",
   "execution_count": 42,
   "id": "aa6eeab2",
   "metadata": {},
   "outputs": [
    {
     "data": {
      "text/plain": [
       "array([[1, 0, 0, 0],\n",
       "       [0, 1, 0, 0],\n",
       "       [0, 0, 1, 0],\n",
       "       [0, 0, 0, 1]])"
      ]
     },
     "execution_count": 42,
     "metadata": {},
     "output_type": "execute_result"
    }
   ],
   "source": [
    "np.eye(4,dtype=int)"
   ]
  },
  {
   "cell_type": "markdown",
   "id": "2fbfdf95",
   "metadata": {},
   "source": [
    "### EMPTY FUNCITONS"
   ]
  },
  {
   "cell_type": "code",
   "execution_count": 169,
   "id": "10ad64af",
   "metadata": {},
   "outputs": [
    {
     "data": {
      "text/plain": [
       "array([[4.67296746e-307, 1.69121096e-306, 2.22520559e-306,\n",
       "        7.56587585e-307, 1.37961302e-306],\n",
       "       [1.05699242e-307, 8.01097889e-307, 1.78020169e-306,\n",
       "        7.56601165e-307, 1.02359984e-306],\n",
       "       [1.33510679e-306, 2.22522597e-306, 1.78019761e-306,\n",
       "        1.37962185e-306, 1.78019625e-306],\n",
       "       [6.89812281e-307, 9.34609790e-307, 1.24610723e-306,\n",
       "        1.05700515e-307, 2.04712906e-306],\n",
       "       [7.56589622e-307, 1.11258277e-307, 8.90111708e-307,\n",
       "        2.46155235e-312, 3.20552953e-317]])"
      ]
     },
     "execution_count": 169,
     "metadata": {},
     "output_type": "execute_result"
    }
   ],
   "source": [
    "np.empty(shape=(5,5))"
   ]
  },
  {
   "cell_type": "markdown",
   "id": "c8191985",
   "metadata": {},
   "source": [
    "### RANDOM FUNTION"
   ]
  },
  {
   "cell_type": "markdown",
   "id": "3f5861eb",
   "metadata": {},
   "source": [
    "#### a)np.random.rand"
   ]
  },
  {
   "cell_type": "code",
   "execution_count": 47,
   "id": "8ddbc680",
   "metadata": {},
   "outputs": [
    {
     "data": {
      "text/plain": [
       "array([[0.53204516, 0.61634005, 0.34752428, 0.69090437],\n",
       "       [0.28947579, 0.61948703, 0.88658195, 0.70433197],\n",
       "       [0.49520822, 0.58547755, 0.77108986, 0.24683651]])"
      ]
     },
     "execution_count": 47,
     "metadata": {},
     "output_type": "execute_result"
    }
   ],
   "source": [
    "# all numbers will range from 0 to 1\n",
    "np.random.rand(3,4)"
   ]
  },
  {
   "cell_type": "markdown",
   "id": "eb9f8f10",
   "metadata": {},
   "source": [
    "#### a)np.random.randint"
   ]
  },
  {
   "cell_type": "code",
   "execution_count": 50,
   "id": "941b148e",
   "metadata": {},
   "outputs": [
    {
     "data": {
      "text/plain": [
       "array([5, 6, 5, 7, 2, 4, 1, 5, 6, 6])"
      ]
     },
     "execution_count": 50,
     "metadata": {},
     "output_type": "execute_result"
    }
   ],
   "source": [
    "np.random.randint(low=1,high=10,size=10)"
   ]
  },
  {
   "cell_type": "markdown",
   "id": "af33cdff",
   "metadata": {},
   "source": [
    "#### a)np.random.randn"
   ]
  },
  {
   "cell_type": "code",
   "execution_count": 53,
   "id": "fc7054cc",
   "metadata": {},
   "outputs": [],
   "source": [
    "rand_arr=np.random.randn(100)"
   ]
  },
  {
   "cell_type": "code",
   "execution_count": 52,
   "id": "3dda117b",
   "metadata": {},
   "outputs": [],
   "source": [
    "import matplotlib.pyplot as plt"
   ]
  },
  {
   "cell_type": "code",
   "execution_count": 56,
   "id": "1e3c1521",
   "metadata": {},
   "outputs": [
    {
     "data": {
      "image/png": "[encoded data removed]",
      "text/plain": [
       "<Figure size 640x480 with 1 Axes>"
      ]
     },
     "metadata": {},
     "output_type": "display_data"
    }
   ],
   "source": [
    "plt.hist(rand_arr,bins=100);"
   ]
  },
  {
   "cell_type": "markdown",
   "id": "e4fa2195",
   "metadata": {},
   "source": [
    "### RESHAPE FUNCTION"
   ]
  },
  {
   "cell_type": "code",
   "execution_count": 66,
   "id": "abec2c77",
   "metadata": {},
   "outputs": [
    {
     "name": "stdout",
     "output_type": "stream",
     "text": [
      "(2, 4)\n",
      "[[1 2 3 4]\n",
      " [5 6 7 8]]\n",
      "(4, 2)\n",
      "[[1 2]\n",
      " [3 4]\n",
      " [5 6]\n",
      " [7 8]]\n"
     ]
    }
   ],
   "source": [
    "arr1=np.array([[1,2,3,4],[5,6,7,8]])\n",
    "print(arr1.shape)\n",
    "print(arr1)\n",
    "arr1=arr1.reshape(4,2)\n",
    "print(arr1.shape)\n",
    "print(arr1)"
   ]
  },
  {
   "cell_type": "markdown",
   "id": "ac738ef9",
   "metadata": {},
   "source": [
    "### LINSPACE FUNCTION"
   ]
  },
  {
   "cell_type": "code",
   "execution_count": 70,
   "id": "73d6dfd8",
   "metadata": {},
   "outputs": [
    {
     "data": {
      "text/plain": [
       "array([ 1.  ,  3.25,  5.5 ,  7.75, 10.  ])"
      ]
     },
     "execution_count": 70,
     "metadata": {},
     "output_type": "execute_result"
    }
   ],
   "source": [
    "#all the points generated here is equidistant \n",
    "np.linspace(1,10,5)"
   ]
  },
  {
   "cell_type": "markdown",
   "id": "8759846f",
   "metadata": {},
   "source": [
    "### FLATTEN FUNCTION : converts to 1 D array"
   ]
  },
  {
   "cell_type": "code",
   "execution_count": 75,
   "id": "6c7b43d8",
   "metadata": {},
   "outputs": [
    {
     "name": "stdout",
     "output_type": "stream",
     "text": [
      "[[ 9 11  9 12]\n",
      " [ 8  1  6 13]\n",
      " [12  1  6  3]]\n",
      "(3, 4)\n",
      "[ 9 11  9 12  8  1  6 13 12  1  6  3]\n"
     ]
    }
   ],
   "source": [
    "arr=np.random.randint(1,15,(3,4))\n",
    "print(arr)\n",
    "print(arr.shape)\n",
    "arr=arr.flatten()\n",
    "print(arr)"
   ]
  },
  {
   "cell_type": "markdown",
   "id": "be610414",
   "metadata": {},
   "source": [
    "#### LOGSPACE FUNCTION"
   ]
  },
  {
   "cell_type": "code",
   "execution_count": 77,
   "id": "837b575a",
   "metadata": {},
   "outputs": [
    {
     "name": "stdout",
     "output_type": "stream",
     "text": [
      "[  100.           166.81005372   278.25594022   464.15888336\n",
      "   774.26368268  1291.54966501  2154.43469003  3593.8136638\n",
      "  5994.84250319 10000.        ]\n"
     ]
    }
   ],
   "source": [
    "print(np.logspace(2,4,10))"
   ]
  },
  {
   "cell_type": "markdown",
   "id": "464f4e31",
   "metadata": {},
   "source": [
    "### COPY FUNCTION"
   ]
  },
  {
   "cell_type": "code",
   "execution_count": 87,
   "id": "cd5c50e8",
   "metadata": {},
   "outputs": [
    {
     "name": "stdout",
     "output_type": "stream",
     "text": [
      "[ 3 12 12  9  8  8  2 12  8  6] 1304502201456\n",
      "[ 3 12 12  9  8  8  2 12  8  6] 1304502201456\n",
      "------------------------------------\n",
      "[13 14  5 12 13 11  6  5  9 10] 1304502201360\n",
      "[13 14  5 12 13 11  6  5  9 10] 1304503536784\n"
     ]
    }
   ],
   "source": [
    "arr1=np.random.randint(1,15,10)\n",
    "\n",
    "arr2=arr1\n",
    "\n",
    "print(arr1,id(arr1))\n",
    "print(arr2,id(arr2))\n",
    "print('------------------------------------')\n",
    "\n",
    "arr1=np.random.randint(1,15,10)\n",
    "\n",
    "arr2=np.copy(arr1)\n",
    "\n",
    "print(arr1,id(arr1))\n",
    "print(arr2,id(arr2))"
   ]
  },
  {
   "cell_type": "markdown",
   "id": "56ad5c77",
   "metadata": {},
   "source": [
    "### MAX , MIN, SUM FUNCTION"
   ]
  },
  {
   "cell_type": "code",
   "execution_count": 90,
   "id": "d134458b",
   "metadata": {},
   "outputs": [
    {
     "name": "stdout",
     "output_type": "stream",
     "text": [
      "[[ 1  2  6  7 13]\n",
      " [11  9  4  2 10]\n",
      " [ 9  5  3 13  4]]\n",
      "MAX :  13\n",
      "MIN :  1\n",
      "sum :  99\n"
     ]
    }
   ],
   "source": [
    "arr=np.random.randint(1,15,(3,5))\n",
    "print(arr)\n",
    "print(\"MAX : \",arr.max())\n",
    "print(\"MIN : \",arr.min())\n",
    "print(\"sum : \",arr.sum())"
   ]
  },
  {
   "cell_type": "markdown",
   "id": "70c4fc72",
   "metadata": {},
   "source": [
    "we can use the axis parameter to get the max ,min and sum of a particular  column or row\n",
    "\n",
    "axis 0= row\n",
    "\n",
    "axis 1= column"
   ]
  },
  {
   "cell_type": "code",
   "execution_count": 92,
   "id": "1f3c0e4d",
   "metadata": {},
   "outputs": [
    {
     "name": "stdout",
     "output_type": "stream",
     "text": [
      "--------------------\n",
      "[[ 6  2  9 11 14]\n",
      " [ 3  4 13  3  7]\n",
      " [ 9  9  3  9 11]]\n",
      "--------------------\n"
     ]
    }
   ],
   "source": [
    "arr=np.random.randint(1,15,(3,5))\n",
    "print('-'*20)\n",
    "print(arr)\n",
    "print('-'*20)\n"
   ]
  },
  {
   "cell_type": "markdown",
   "id": "f0ebe402",
   "metadata": {},
   "source": [
    "##### for columns"
   ]
  },
  {
   "cell_type": "code",
   "execution_count": 93,
   "id": "67722849",
   "metadata": {},
   "outputs": [
    {
     "name": "stdout",
     "output_type": "stream",
     "text": [
      "MAX :  [14 13 11]\n",
      "MIN :  [2 3 3]\n",
      "sum :  [42 30 41]\n"
     ]
    }
   ],
   "source": [
    "print(\"MAX : \",arr.max(axis=1))\n",
    "print(\"MIN : \",arr.min(axis=1))\n",
    "print(\"sum : \",arr.sum(axis=1))"
   ]
  },
  {
   "cell_type": "markdown",
   "id": "b8d9c12e",
   "metadata": {},
   "source": [
    "##### for rows"
   ]
  },
  {
   "cell_type": "code",
   "execution_count": 94,
   "id": "2ad67a42",
   "metadata": {},
   "outputs": [
    {
     "name": "stdout",
     "output_type": "stream",
     "text": [
      "MAX :  [ 9  9 13 11 14]\n",
      "MIN :  [3 2 3 3 7]\n",
      "sum :  [18 15 25 23 32]\n"
     ]
    }
   ],
   "source": [
    "print(\"MAX : \",arr.max(axis=0))\n",
    "print(\"MIN : \",arr.min(axis=0))\n",
    "print(\"sum : \",arr.sum(axis=0))"
   ]
  },
  {
   "cell_type": "markdown",
   "id": "9b7b8aca",
   "metadata": {},
   "source": [
    "### SEED FUNCTIONS : used to access same random numbers again adn again"
   ]
  },
  {
   "cell_type": "code",
   "execution_count": 97,
   "id": "a6d7f850",
   "metadata": {},
   "outputs": [
    {
     "data": {
      "text/plain": [
       "array([[11,  9, 10,  4,  9],\n",
       "       [ 9,  1,  6, 14,  4],\n",
       "       [11, 12, 10, 10, 11]])"
      ]
     },
     "execution_count": 97,
     "metadata": {},
     "output_type": "execute_result"
    }
   ],
   "source": [
    "np.random.seed(3) # seed value can be any number through which same array will be initialised\n",
    "arr=np.random.randint(1,15,(3,5))\n",
    "arr"
   ]
  },
  {
   "cell_type": "markdown",
   "id": "cdba1a49",
   "metadata": {},
   "source": [
    "### SORTING FUNCTION"
   ]
  },
  {
   "cell_type": "code",
   "execution_count": 105,
   "id": "c771bf47",
   "metadata": {},
   "outputs": [
    {
     "name": "stdout",
     "output_type": "stream",
     "text": [
      "--------------------\n",
      "[[ 7  1  5 12  2]\n",
      " [ 6  2  9  9  8]\n",
      " [14  1  1 10  2]]\n",
      "--------------------\n",
      "[[ 1  2  5  7 12]\n",
      " [ 2  6  8  9  9]\n",
      " [ 1  1  2 10 14]]\n",
      "--------------------\n",
      "[[ 6  1  1  9  2]\n",
      " [ 7  1  5 10  2]\n",
      " [14  2  9 12  8]]\n",
      "--------------------\n",
      "[[ 6  1  1  9  2]\n",
      " [ 7  1  5 10  2]\n",
      " [14  2  9 12  8]]\n"
     ]
    }
   ],
   "source": [
    "arr=np.random.randint(1,15,(3,5))\n",
    "print('-'*20)\n",
    "print(arr)\n",
    "print('-'*20)\n",
    "print(np.sort(arr, axis = 1))#axis is defaultly fixed to axis=1 for column\n",
    "print('-'*20)\n",
    "print(np.sort(arr, axis = 0))#for rows\n",
    "print('-'*20)\n",
    "print(np.sort(arr,axis=0,kind='mergesort'))\n"
   ]
  },
  {
   "cell_type": "markdown",
   "id": "39d7ca15",
   "metadata": {},
   "source": [
    "### mathematical operations"
   ]
  },
  {
   "cell_type": "markdown",
   "id": "5ed08eaf",
   "metadata": {},
   "source": [
    "#### a) ADDITION"
   ]
  },
  {
   "cell_type": "code",
   "execution_count": 107,
   "id": "1d0d0115",
   "metadata": {},
   "outputs": [
    {
     "name": "stdout",
     "output_type": "stream",
     "text": [
      "--------------------\n",
      "[[ 1  9  3  8  3]\n",
      " [ 2  4 14  3  5]\n",
      " [ 2  3  3  8  4]]\n",
      "--------------------\n",
      "[[ 2 10  4  9  4]\n",
      " [ 3  5 15  4  6]\n",
      " [ 3  4  4  9  5]]\n"
     ]
    }
   ],
   "source": [
    "arr=np.random.randint(1,15,(3,5))\n",
    "print('-'*20)\n",
    "print(arr)\n",
    "print('-'*20)\n",
    "print(arr+1)"
   ]
  },
  {
   "cell_type": "markdown",
   "id": "c0c8ce9c",
   "metadata": {},
   "source": [
    "#### b) Subtraction"
   ]
  },
  {
   "cell_type": "code",
   "execution_count": 110,
   "id": "b3f9757d",
   "metadata": {},
   "outputs": [
    {
     "name": "stdout",
     "output_type": "stream",
     "text": [
      "--------------------\n",
      "[[ 8 10 11  2 10]\n",
      " [ 1 14 13  8 13]\n",
      " [ 5 14 11  9 13]]\n",
      "--------------------\n",
      "[[ 7  9 10  1  9]\n",
      " [ 0 13 12  7 12]\n",
      " [ 4 13 10  8 12]]\n"
     ]
    }
   ],
   "source": [
    "arr=np.random.randint(1,15,(3,5))\n",
    "print('-'*20)\n",
    "print(arr)\n",
    "print('-'*20)\n",
    "print(arr-1)"
   ]
  },
  {
   "cell_type": "markdown",
   "id": "f33104b2",
   "metadata": {},
   "source": [
    "#### devision"
   ]
  },
  {
   "cell_type": "code",
   "execution_count": 112,
   "id": "69a88d52",
   "metadata": {},
   "outputs": [
    {
     "name": "stdout",
     "output_type": "stream",
     "text": [
      "--------------------\n",
      "[[11  9  5 13  2]\n",
      " [ 5  1  6  7  8]\n",
      " [13  1  8  9  2]]\n",
      "--------------------\n",
      "[[5.5 4.5 2.5 6.5 1. ]\n",
      " [2.5 0.5 3.  3.5 4. ]\n",
      " [6.5 0.5 4.  4.5 1. ]]\n"
     ]
    }
   ],
   "source": [
    "arr=np.random.randint(1,15,(3,5))\n",
    "print('-'*20)\n",
    "print(arr)\n",
    "print('-'*20)\n",
    "print(arr/2)"
   ]
  },
  {
   "cell_type": "markdown",
   "id": "dfdea687",
   "metadata": {},
   "source": [
    "#### multiplication"
   ]
  },
  {
   "cell_type": "code",
   "execution_count": 113,
   "id": "0cabbdc7",
   "metadata": {},
   "outputs": [
    {
     "name": "stdout",
     "output_type": "stream",
     "text": [
      "--------------------\n",
      "[[13  6  4 11 13]\n",
      " [12  7 10 13  2]\n",
      " [ 4  8 14  5 10]]\n",
      "--------------------\n",
      "[[26 12  8 22 26]\n",
      " [24 14 20 26  4]\n",
      " [ 8 16 28 10 20]]\n"
     ]
    }
   ],
   "source": [
    "arr=np.random.randint(1,15,(3,5))\n",
    "print('-'*20)\n",
    "print(arr)\n",
    "print('-'*20)\n",
    "print(arr*2)"
   ]
  },
  {
   "cell_type": "markdown",
   "id": "32cff01b",
   "metadata": {},
   "source": [
    "#### MATRIX MULTIPLICATION"
   ]
  },
  {
   "cell_type": "code",
   "execution_count": 117,
   "id": "af34e961",
   "metadata": {},
   "outputs": [
    {
     "data": {
      "text/plain": [
       "array([[9, 4],\n",
       "       [9, 9]])"
      ]
     },
     "execution_count": 117,
     "metadata": {},
     "output_type": "execute_result"
    }
   ],
   "source": [
    "np.random.seed(3)\n",
    "arr1=np.random.randint(1,10,(2,2))\n",
    "arr2=np.random.randint(1,10,(2,2))\n",
    "arr1"
   ]
  },
  {
   "cell_type": "code",
   "execution_count": 118,
   "id": "7bfbd892",
   "metadata": {},
   "outputs": [
    {
     "data": {
      "text/plain": [
       "array([[1, 6],\n",
       "       [4, 6]])"
      ]
     },
     "execution_count": 118,
     "metadata": {},
     "output_type": "execute_result"
    }
   ],
   "source": [
    "arr2"
   ]
  },
  {
   "cell_type": "code",
   "execution_count": 119,
   "id": "49f5701e",
   "metadata": {},
   "outputs": [
    {
     "data": {
      "text/plain": [
       "array([[ 25,  78],\n",
       "       [ 45, 108]])"
      ]
     },
     "execution_count": 119,
     "metadata": {},
     "output_type": "execute_result"
    }
   ],
   "source": [
    "arr1.dot(arr2)"
   ]
  },
  {
   "cell_type": "markdown",
   "id": "75c4af50",
   "metadata": {},
   "source": [
    "#### f) Power"
   ]
  },
  {
   "cell_type": "code",
   "execution_count": 121,
   "id": "e7fa70b8",
   "metadata": {},
   "outputs": [
    {
     "name": "stdout",
     "output_type": "stream",
     "text": [
      "[[ 2  4 11  6  9]\n",
      " [ 2 14 11  9 12]\n",
      " [ 8  9 12  2 12]]\n",
      "--------------------\n",
      "[[  4  16 121  36  81]\n",
      " [  4 196 121  81 144]\n",
      " [ 64  81 144   4 144]]\n"
     ]
    }
   ],
   "source": [
    "arr=np.random.randint(1,15,(3,5))\n",
    "print(arr)\n",
    "print('-'*20)\n",
    "print(arr**2)"
   ]
  },
  {
   "cell_type": "markdown",
   "id": "723dfdf8",
   "metadata": {},
   "source": [
    "### PERCENTILE FUNCTION"
   ]
  },
  {
   "cell_type": "code",
   "execution_count": 123,
   "id": "52ecb572",
   "metadata": {},
   "outputs": [
    {
     "name": "stdout",
     "output_type": "stream",
     "text": [
      "[9 4 9 9 1 6 4 6 8 7]\n",
      "[1 4 4 6 6 7 8 9 9 9]\n",
      "6.5\n"
     ]
    }
   ],
   "source": [
    "np.random.seed(3)\n",
    "arr=np.random.randint(1,10,10)\n",
    "print(arr)\n",
    "arr=np.sort(arr)\n",
    "print(arr)\n",
    "\n",
    "print(np.percentile(arr,50))"
   ]
  },
  {
   "cell_type": "markdown",
   "id": "f6564908",
   "metadata": {},
   "source": [
    "### MEAN , STD DEV , VARIANCE "
   ]
  },
  {
   "cell_type": "code",
   "execution_count": 128,
   "id": "48fae9e8",
   "metadata": {},
   "outputs": [
    {
     "name": "stdout",
     "output_type": "stream",
     "text": [
      "[9 4 9 9 1 6 4 6 8 7]\n",
      "6.3\n",
      "2.5317977802344327\n",
      "6.410000000000001\n"
     ]
    }
   ],
   "source": [
    "np.random.seed(3)\n",
    "arr=np.random.randint(1,10,10)\n",
    "print(arr)\n",
    "print(arr.mean())\n",
    "print(arr.std())\n",
    "print(arr.var())"
   ]
  },
  {
   "cell_type": "markdown",
   "id": "0f6d35ed",
   "metadata": {},
   "source": [
    "### FILTERING OF NUMPY ARRAY"
   ]
  },
  {
   "cell_type": "code",
   "execution_count": 135,
   "id": "2a597d1e",
   "metadata": {},
   "outputs": [
    {
     "name": "stdout",
     "output_type": "stream",
     "text": [
      "[1 2 3 4 5 6 7 8 9]\n",
      "[False False False False False  True  True  True  True]\n",
      "[ True  True  True  True False False False False False]\n",
      "[False False False False  True False False False False]\n"
     ]
    }
   ],
   "source": [
    "arr=np.arange(1,10)\n",
    "print(arr)\n",
    "print(arr>5)\n",
    "print(arr<5)\n",
    "print(arr==5)"
   ]
  },
  {
   "cell_type": "code",
   "execution_count": 137,
   "id": "2b3845d1",
   "metadata": {},
   "outputs": [
    {
     "name": "stdout",
     "output_type": "stream",
     "text": [
      "[1 2 3 4 5 6 7 8 9]\n",
      "[1 2]\n"
     ]
    }
   ],
   "source": [
    "arr=np.arange(1,10)\n",
    "print(arr)\n",
    "arr2=arr[arr < 3]\n",
    "print(arr2)"
   ]
  },
  {
   "cell_type": "code",
   "execution_count": 139,
   "id": "20b19939",
   "metadata": {},
   "outputs": [
    {
     "name": "stdout",
     "output_type": "stream",
     "text": [
      "[6 7 8 9]\n"
     ]
    }
   ],
   "source": [
    "print(arr[arr>5])"
   ]
  },
  {
   "cell_type": "markdown",
   "id": "398a1733",
   "metadata": {},
   "source": [
    "### TRANSPOSING AN ARRAY"
   ]
  },
  {
   "cell_type": "code",
   "execution_count": 141,
   "id": "a7bd501f",
   "metadata": {},
   "outputs": [
    {
     "name": "stdout",
     "output_type": "stream",
     "text": [
      "[[3 3 2]\n",
      " [4 6 9]]\n",
      "--------------------\n",
      "[[3 4]\n",
      " [3 6]\n",
      " [2 9]]\n"
     ]
    }
   ],
   "source": [
    "arr=np.random.randint(1,10,(2,3))\n",
    "print(arr)\n",
    "print('-'*20)\n",
    "print(arr.T)"
   ]
  },
  {
   "cell_type": "markdown",
   "id": "7e012f3e",
   "metadata": {},
   "source": [
    "### WHERE FUNCTION"
   ]
  },
  {
   "cell_type": "code",
   "execution_count": 146,
   "id": "a5edeec1",
   "metadata": {},
   "outputs": [
    {
     "data": {
      "text/plain": [
       "array([1, 1, 1, 1, 3, 3, 8, 1, 6, 1])"
      ]
     },
     "execution_count": 146,
     "metadata": {},
     "output_type": "execute_result"
    }
   ],
   "source": [
    "arr=np.random.randint(1,10,10)\n",
    "arr"
   ]
  },
  {
   "cell_type": "code",
   "execution_count": 149,
   "id": "f8d64e29",
   "metadata": {},
   "outputs": [
    {
     "name": "stdout",
     "output_type": "stream",
     "text": [
      "[1 1 1 1 3 3 8 1 6 1]\n",
      "['False' 'False' 'False' 'False' 'False' 'False' 'True' 'False' 'True'\n",
      " 'False']\n"
     ]
    }
   ],
   "source": [
    "print(arr)\n",
    "arr1=np.where(arr%2==0,'True',arr)\n",
    "arr1=np.where(arr%2!=0,'False',arr1)\n",
    "print(arr1)"
   ]
  },
  {
   "cell_type": "markdown",
   "id": "1ee75ae0",
   "metadata": {},
   "source": [
    "### MERGING ARRAYS\n",
    "#### a) concatenation"
   ]
  },
  {
   "cell_type": "code",
   "execution_count": 153,
   "id": "2f1b6673",
   "metadata": {},
   "outputs": [
    {
     "name": "stdout",
     "output_type": "stream",
     "text": [
      "[[1 6 9 5]\n",
      " [9 9 4 5]]\n",
      "[[3 6 5 8]\n",
      " [2 1 8 5]]\n",
      "------------------------------\n",
      "[[1 6 9 5]\n",
      " [9 9 4 5]\n",
      " [3 6 5 8]\n",
      " [2 1 8 5]]\n",
      "------------------------------\n",
      "[[1 6 9 5 3 6 5 8]\n",
      " [9 9 4 5 2 1 8 5]]\n",
      "------------------------------\n"
     ]
    }
   ],
   "source": [
    "arr1=np.random.randint(1,10,(2,4))\n",
    "arr2=np.random.randint(1,10,(2,4))\n",
    "print(arr1)\n",
    "print(arr2)\n",
    "print('-'*30)\n",
    "print(np.concatenate((arr1,arr2),axis=0))#we are going to concatenate row wise\n",
    "print('-'*30)\n",
    "print(np.concatenate((arr1,arr2),axis=1))#we are going to concatenate column wise\n",
    "print('-'*30)\n"
   ]
  },
  {
   "cell_type": "markdown",
   "id": "990d7798",
   "metadata": {},
   "source": [
    "#### b) Vstack adn Hstack"
   ]
  },
  {
   "cell_type": "code",
   "execution_count": 155,
   "id": "a800b80e",
   "metadata": {},
   "outputs": [
    {
     "data": {
      "text/plain": [
       "array([[2, 4, 8, 5, 9, 6, 7, 8],\n",
       "       [1, 9, 5, 8, 4, 6, 2, 9]])"
      ]
     },
     "execution_count": 155,
     "metadata": {},
     "output_type": "execute_result"
    }
   ],
   "source": [
    "arr1=np.random.randint(1,10,(2,4))\n",
    "arr2=np.random.randint(1,10,(2,4))\n",
    "np.hstack((arr1,arr2))"
   ]
  },
  {
   "cell_type": "code",
   "execution_count": 156,
   "id": "657b228a",
   "metadata": {},
   "outputs": [
    {
     "data": {
      "text/plain": [
       "array([[3, 9, 5, 6],\n",
       "       [1, 9, 8, 2],\n",
       "       [3, 6, 3, 8],\n",
       "       [7, 8, 2, 6]])"
      ]
     },
     "execution_count": 156,
     "metadata": {},
     "output_type": "execute_result"
    }
   ],
   "source": [
    "arr1=np.random.randint(1,10,(2,4))\n",
    "arr2=np.random.randint(1,10,(2,4))\n",
    "np.vstack((arr1,arr2))"
   ]
  },
  {
   "cell_type": "markdown",
   "id": "ba36f4a3",
   "metadata": {},
   "source": [
    "### SPLITTING ARRAYS "
   ]
  },
  {
   "cell_type": "code",
   "execution_count": 157,
   "id": "4bf95940",
   "metadata": {},
   "outputs": [
    {
     "name": "stdout",
     "output_type": "stream",
     "text": [
      "[[8 6 8 3]\n",
      " [7 5 9 5]\n",
      " [4 9 6 7]\n",
      " [4 9 5 3]]\n"
     ]
    }
   ],
   "source": [
    "arr=np.random.randint(1,10,(4,4))\n",
    "print(arr)"
   ]
  },
  {
   "cell_type": "code",
   "execution_count": 158,
   "id": "440f46cd",
   "metadata": {},
   "outputs": [
    {
     "data": {
      "text/plain": [
       "[array([[8, 6, 8, 3],\n",
       "        [7, 5, 9, 5]]),\n",
       " array([[4, 9, 6, 7],\n",
       "        [4, 9, 5, 3]])]"
      ]
     },
     "execution_count": 158,
     "metadata": {},
     "output_type": "execute_result"
    }
   ],
   "source": [
    "np.vsplit(arr,2)"
   ]
  },
  {
   "attachments": {
    "image.png": {
     "image/png": "[encoded data removed]"
    }
   },
   "cell_type": "markdown",
   "id": "d4030790",
   "metadata": {},
   "source": [
    "### how to load image into numpy array\n",
    "\n",
    "array representation\n",
    "![image.png](attachment:image.png)"
   ]
  },
  {
   "cell_type": "code",
   "execution_count": 159,
   "id": "c0ab4218",
   "metadata": {},
   "outputs": [],
   "source": [
    "from matplotlib.image import imread"
   ]
  },
  {
   "cell_type": "code",
   "execution_count": 163,
   "id": "3023c0bd",
   "metadata": {},
   "outputs": [
    {
     "data": {
      "text/plain": [
       "(235, 603, 4)"
      ]
     },
     "execution_count": 163,
     "metadata": {},
     "output_type": "execute_result"
    }
   ],
   "source": [
    "img=imread(r\"C:\\Users\\jayes\\OneDrive\\Pictures\\Screenshots\\Screenshot 2024-08-31 000441.png\")\n",
    "img.shape"
   ]
  },
  {
   "cell_type": "code",
   "execution_count": null,
   "id": "7368bef4",
   "metadata": {},
   "outputs": [],
   "source": []
  }
 ],
 "metadata": {
  "kernelspec": {
   "display_name": "Python 3 (ipykernel)",
   "language": "python",
   "name": "python3"
  },
  "language_info": {
   "codemirror_mode": {
    "name": "ipython",
    "version": 3
   },
   "file_extension": ".py",
   "mimetype": "text/x-python",
   "name": "python",
   "nbconvert_exporter": "python",
   "pygments_lexer": "ipython3",
   "version": "3.11.5"
  }
 },
 "nbformat": 4,
 "nbformat_minor": 5
}
